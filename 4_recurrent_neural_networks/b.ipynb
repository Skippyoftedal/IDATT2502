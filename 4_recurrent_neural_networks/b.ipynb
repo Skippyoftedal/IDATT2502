{
 "cells": [
  {
   "metadata": {},
   "cell_type": "markdown",
   "source": "The dataset is from https://www.kaggle.com/datasets/subinium/emojiimage-dataset/data"
  },
  {
   "cell_type": "code",
   "source": [
    "import torch\n",
    "import numpy as np\n",
    "\n",
    "import EmojiModel\n",
    "from utility.deviceUtility import get_best_available_device\n",
    "\n",
    "import importlib\n",
    "import random\n",
    "import pandas as pd\n",
    "\n",
    "importlib.reload(EmojiModel)"
   ],
   "metadata": {
    "ExecuteTime": {
     "end_time": "2024-09-23T10:13:02.152785Z",
     "start_time": "2024-09-23T10:13:01.145201Z"
    }
   },
   "outputs": [
    {
     "data": {
      "text/plain": [
       "<module 'EmojiModel' from '/Users/Admin/Documents/MachineLearning/github/ovinger/4_recurrent_neural_networks/EmojiModel.py'>"
      ]
     },
     "execution_count": 1,
     "metadata": {},
     "output_type": "execute_result"
    }
   ],
   "execution_count": 1
  },
  {
   "metadata": {},
   "cell_type": "markdown",
   "source": "$$c = \\sqrt{a^2 + b^2}$$\n"
  },
  {
   "metadata": {
    "ExecuteTime": {
     "end_time": "2024-09-23T10:13:02.231939Z",
     "start_time": "2024-09-23T10:13:02.218998Z"
    }
   },
   "cell_type": "code",
   "source": "device = get_best_available_device()\n",
   "outputs": [
    {
     "name": "stdout",
     "output_type": "stream",
     "text": [
      "________________________\n",
      "\u001B[94m\n",
      "Device manager:\n",
      "Running on device: mps\u001B[0m\n",
      "________________________\n"
     ]
    }
   ],
   "execution_count": 2
  },
  {
   "metadata": {
    "ExecuteTime": {
     "end_time": "2024-09-23T10:13:02.309343Z",
     "start_time": "2024-09-23T10:13:02.305551Z"
    }
   },
   "cell_type": "code",
   "source": [
    "\n",
    "\n",
    "# df = pd.read_csv(\"../data/emoji/copy.csv\")\n",
    "# emoji_dict = dict(zip(df.iloc[:, 3], df.iloc[:, 1]))\n",
    "# print(emoji_dict)\n",
    "\n",
    "\n",
    "emoji_dict = {\n",
    "    'dog': '🐶',\n",
    "    'cat': '🐱',\n",
    "    'fox': '🦊',\n",
    "    'cookie': '🍪',\n",
    "    'crown': '👑',\n",
    "    'snake': '🐍',\n",
    "    'cold': '🥶'\n",
    "}\n",
    "\n",
    "\n",
    "\n",
    "emoji_list = list(emoji_dict.values())\n",
    "\n",
    "possible_chars = list(' ' + ''.join(set(''.join(emoji_dict.keys()))))\n",
    "possible_chars"
   ],
   "outputs": [
    {
     "data": {
      "text/plain": [
       "[' ',\n",
       " 'g',\n",
       " 'f',\n",
       " 'e',\n",
       " 't',\n",
       " 'o',\n",
       " 'k',\n",
       " 'd',\n",
       " 's',\n",
       " 'i',\n",
       " 'w',\n",
       " 'r',\n",
       " 'l',\n",
       " 'x',\n",
       " 'c',\n",
       " 'n',\n",
       " 'a']"
      ]
     },
     "execution_count": 3,
     "metadata": {},
     "output_type": "execute_result"
    }
   ],
   "execution_count": 3
  },
  {
   "metadata": {
    "ExecuteTime": {
     "end_time": "2024-09-23T10:13:02.330049Z",
     "start_time": "2024-09-23T10:13:02.325827Z"
    }
   },
   "cell_type": "code",
   "source": [
    "char_encodings = np.eye(len(possible_chars))\n",
    "char_encodings"
   ],
   "outputs": [
    {
     "data": {
      "text/plain": [
       "array([[1., 0., 0., 0., 0., 0., 0., 0., 0., 0., 0., 0., 0., 0., 0., 0.,\n",
       "        0.],\n",
       "       [0., 1., 0., 0., 0., 0., 0., 0., 0., 0., 0., 0., 0., 0., 0., 0.,\n",
       "        0.],\n",
       "       [0., 0., 1., 0., 0., 0., 0., 0., 0., 0., 0., 0., 0., 0., 0., 0.,\n",
       "        0.],\n",
       "       [0., 0., 0., 1., 0., 0., 0., 0., 0., 0., 0., 0., 0., 0., 0., 0.,\n",
       "        0.],\n",
       "       [0., 0., 0., 0., 1., 0., 0., 0., 0., 0., 0., 0., 0., 0., 0., 0.,\n",
       "        0.],\n",
       "       [0., 0., 0., 0., 0., 1., 0., 0., 0., 0., 0., 0., 0., 0., 0., 0.,\n",
       "        0.],\n",
       "       [0., 0., 0., 0., 0., 0., 1., 0., 0., 0., 0., 0., 0., 0., 0., 0.,\n",
       "        0.],\n",
       "       [0., 0., 0., 0., 0., 0., 0., 1., 0., 0., 0., 0., 0., 0., 0., 0.,\n",
       "        0.],\n",
       "       [0., 0., 0., 0., 0., 0., 0., 0., 1., 0., 0., 0., 0., 0., 0., 0.,\n",
       "        0.],\n",
       "       [0., 0., 0., 0., 0., 0., 0., 0., 0., 1., 0., 0., 0., 0., 0., 0.,\n",
       "        0.],\n",
       "       [0., 0., 0., 0., 0., 0., 0., 0., 0., 0., 1., 0., 0., 0., 0., 0.,\n",
       "        0.],\n",
       "       [0., 0., 0., 0., 0., 0., 0., 0., 0., 0., 0., 1., 0., 0., 0., 0.,\n",
       "        0.],\n",
       "       [0., 0., 0., 0., 0., 0., 0., 0., 0., 0., 0., 0., 1., 0., 0., 0.,\n",
       "        0.],\n",
       "       [0., 0., 0., 0., 0., 0., 0., 0., 0., 0., 0., 0., 0., 1., 0., 0.,\n",
       "        0.],\n",
       "       [0., 0., 0., 0., 0., 0., 0., 0., 0., 0., 0., 0., 0., 0., 1., 0.,\n",
       "        0.],\n",
       "       [0., 0., 0., 0., 0., 0., 0., 0., 0., 0., 0., 0., 0., 0., 0., 1.,\n",
       "        0.],\n",
       "       [0., 0., 0., 0., 0., 0., 0., 0., 0., 0., 0., 0., 0., 0., 0., 0.,\n",
       "        1.]])"
      ]
     },
     "execution_count": 4,
     "metadata": {},
     "output_type": "execute_result"
    }
   ],
   "execution_count": 4
  },
  {
   "metadata": {
    "ExecuteTime": {
     "end_time": "2024-09-23T10:13:02.391039Z",
     "start_time": "2024-09-23T10:13:02.388162Z"
    }
   },
   "cell_type": "code",
   "source": [
    "\n",
    "emoji_encoding = np.eye(len(emoji_dict))\n",
    "emoji_encoding\n"
   ],
   "outputs": [
    {
     "data": {
      "text/plain": [
       "array([[1., 0., 0., 0., 0., 0., 0.],\n",
       "       [0., 1., 0., 0., 0., 0., 0.],\n",
       "       [0., 0., 1., 0., 0., 0., 0.],\n",
       "       [0., 0., 0., 1., 0., 0., 0.],\n",
       "       [0., 0., 0., 0., 1., 0., 0.],\n",
       "       [0., 0., 0., 0., 0., 1., 0.],\n",
       "       [0., 0., 0., 0., 0., 0., 1.]])"
      ]
     },
     "execution_count": 5,
     "metadata": {},
     "output_type": "execute_result"
    }
   ],
   "execution_count": 5
  },
  {
   "metadata": {
    "ExecuteTime": {
     "end_time": "2024-09-23T10:13:02.433746Z",
     "start_time": "2024-09-23T10:13:02.430158Z"
    }
   },
   "cell_type": "code",
   "source": [
    "largest_word_len = max([len(it) for it in emoji_dict.keys()])\n",
    "largest_word_len"
   ],
   "outputs": [
    {
     "data": {
      "text/plain": [
       "6"
      ]
     },
     "execution_count": 6,
     "metadata": {},
     "output_type": "execute_result"
    }
   ],
   "execution_count": 6
  },
  {
   "metadata": {
    "ExecuteTime": {
     "end_time": "2024-09-23T10:13:02.571444Z",
     "start_time": "2024-09-23T10:13:02.450443Z"
    }
   },
   "cell_type": "code",
   "source": [
    "\n",
    "padded_keys = [key + \" \" * (largest_word_len - len(key)) for key in emoji_dict.keys()]\n",
    "\n",
    "x_train = torch.tensor([\n",
    "    [[char_encodings[possible_chars.index(a)]] for a in word] for word in padded_keys],\n",
    "    dtype=torch.float, device=device)\n",
    "print(x_train.shape)\n",
    "x_train"
   ],
   "outputs": [
    {
     "name": "stdout",
     "output_type": "stream",
     "text": [
      "torch.Size([7, 6, 1, 17])\n"
     ]
    },
    {
     "name": "stderr",
     "output_type": "stream",
     "text": [
      "/var/folders/9y/_5ktt35903qg07y2vr8r34_80000gn/T/ipykernel_6634/4293065903.py:3: UserWarning: Creating a tensor from a list of numpy.ndarrays is extremely slow. Please consider converting the list to a single numpy.ndarray with numpy.array() before converting to a tensor. (Triggered internally at /Users/runner/work/pytorch/pytorch/pytorch/torch/csrc/utils/tensor_new.cpp:281.)\n",
      "  x_train = torch.tensor([\n"
     ]
    },
    {
     "data": {
      "text/plain": [
       "tensor([[[[0., 0., 0., 0., 0., 0., 0., 1., 0., 0., 0., 0., 0., 0., 0., 0., 0.]],\n",
       "\n",
       "         [[0., 0., 0., 0., 0., 1., 0., 0., 0., 0., 0., 0., 0., 0., 0., 0., 0.]],\n",
       "\n",
       "         [[0., 1., 0., 0., 0., 0., 0., 0., 0., 0., 0., 0., 0., 0., 0., 0., 0.]],\n",
       "\n",
       "         [[1., 0., 0., 0., 0., 0., 0., 0., 0., 0., 0., 0., 0., 0., 0., 0., 0.]],\n",
       "\n",
       "         [[1., 0., 0., 0., 0., 0., 0., 0., 0., 0., 0., 0., 0., 0., 0., 0., 0.]],\n",
       "\n",
       "         [[1., 0., 0., 0., 0., 0., 0., 0., 0., 0., 0., 0., 0., 0., 0., 0., 0.]]],\n",
       "\n",
       "\n",
       "        [[[0., 0., 0., 0., 0., 0., 0., 0., 0., 0., 0., 0., 0., 0., 1., 0., 0.]],\n",
       "\n",
       "         [[0., 0., 0., 0., 0., 0., 0., 0., 0., 0., 0., 0., 0., 0., 0., 0., 1.]],\n",
       "\n",
       "         [[0., 0., 0., 0., 1., 0., 0., 0., 0., 0., 0., 0., 0., 0., 0., 0., 0.]],\n",
       "\n",
       "         [[1., 0., 0., 0., 0., 0., 0., 0., 0., 0., 0., 0., 0., 0., 0., 0., 0.]],\n",
       "\n",
       "         [[1., 0., 0., 0., 0., 0., 0., 0., 0., 0., 0., 0., 0., 0., 0., 0., 0.]],\n",
       "\n",
       "         [[1., 0., 0., 0., 0., 0., 0., 0., 0., 0., 0., 0., 0., 0., 0., 0., 0.]]],\n",
       "\n",
       "\n",
       "        [[[0., 0., 1., 0., 0., 0., 0., 0., 0., 0., 0., 0., 0., 0., 0., 0., 0.]],\n",
       "\n",
       "         [[0., 0., 0., 0., 0., 1., 0., 0., 0., 0., 0., 0., 0., 0., 0., 0., 0.]],\n",
       "\n",
       "         [[0., 0., 0., 0., 0., 0., 0., 0., 0., 0., 0., 0., 0., 1., 0., 0., 0.]],\n",
       "\n",
       "         [[1., 0., 0., 0., 0., 0., 0., 0., 0., 0., 0., 0., 0., 0., 0., 0., 0.]],\n",
       "\n",
       "         [[1., 0., 0., 0., 0., 0., 0., 0., 0., 0., 0., 0., 0., 0., 0., 0., 0.]],\n",
       "\n",
       "         [[1., 0., 0., 0., 0., 0., 0., 0., 0., 0., 0., 0., 0., 0., 0., 0., 0.]]],\n",
       "\n",
       "\n",
       "        [[[0., 0., 0., 0., 0., 0., 0., 0., 0., 0., 0., 0., 0., 0., 1., 0., 0.]],\n",
       "\n",
       "         [[0., 0., 0., 0., 0., 1., 0., 0., 0., 0., 0., 0., 0., 0., 0., 0., 0.]],\n",
       "\n",
       "         [[0., 0., 0., 0., 0., 1., 0., 0., 0., 0., 0., 0., 0., 0., 0., 0., 0.]],\n",
       "\n",
       "         [[0., 0., 0., 0., 0., 0., 1., 0., 0., 0., 0., 0., 0., 0., 0., 0., 0.]],\n",
       "\n",
       "         [[0., 0., 0., 0., 0., 0., 0., 0., 0., 1., 0., 0., 0., 0., 0., 0., 0.]],\n",
       "\n",
       "         [[0., 0., 0., 1., 0., 0., 0., 0., 0., 0., 0., 0., 0., 0., 0., 0., 0.]]],\n",
       "\n",
       "\n",
       "        [[[0., 0., 0., 0., 0., 0., 0., 0., 0., 0., 0., 0., 0., 0., 1., 0., 0.]],\n",
       "\n",
       "         [[0., 0., 0., 0., 0., 0., 0., 0., 0., 0., 0., 1., 0., 0., 0., 0., 0.]],\n",
       "\n",
       "         [[0., 0., 0., 0., 0., 1., 0., 0., 0., 0., 0., 0., 0., 0., 0., 0., 0.]],\n",
       "\n",
       "         [[0., 0., 0., 0., 0., 0., 0., 0., 0., 0., 1., 0., 0., 0., 0., 0., 0.]],\n",
       "\n",
       "         [[0., 0., 0., 0., 0., 0., 0., 0., 0., 0., 0., 0., 0., 0., 0., 1., 0.]],\n",
       "\n",
       "         [[1., 0., 0., 0., 0., 0., 0., 0., 0., 0., 0., 0., 0., 0., 0., 0., 0.]]],\n",
       "\n",
       "\n",
       "        [[[0., 0., 0., 0., 0., 0., 0., 0., 1., 0., 0., 0., 0., 0., 0., 0., 0.]],\n",
       "\n",
       "         [[0., 0., 0., 0., 0., 0., 0., 0., 0., 0., 0., 0., 0., 0., 0., 1., 0.]],\n",
       "\n",
       "         [[0., 0., 0., 0., 0., 0., 0., 0., 0., 0., 0., 0., 0., 0., 0., 0., 1.]],\n",
       "\n",
       "         [[0., 0., 0., 0., 0., 0., 1., 0., 0., 0., 0., 0., 0., 0., 0., 0., 0.]],\n",
       "\n",
       "         [[0., 0., 0., 1., 0., 0., 0., 0., 0., 0., 0., 0., 0., 0., 0., 0., 0.]],\n",
       "\n",
       "         [[1., 0., 0., 0., 0., 0., 0., 0., 0., 0., 0., 0., 0., 0., 0., 0., 0.]]],\n",
       "\n",
       "\n",
       "        [[[0., 0., 0., 0., 0., 0., 0., 0., 0., 0., 0., 0., 0., 0., 1., 0., 0.]],\n",
       "\n",
       "         [[0., 0., 0., 0., 0., 1., 0., 0., 0., 0., 0., 0., 0., 0., 0., 0., 0.]],\n",
       "\n",
       "         [[0., 0., 0., 0., 0., 0., 0., 0., 0., 0., 0., 0., 1., 0., 0., 0., 0.]],\n",
       "\n",
       "         [[0., 0., 0., 0., 0., 0., 0., 1., 0., 0., 0., 0., 0., 0., 0., 0., 0.]],\n",
       "\n",
       "         [[1., 0., 0., 0., 0., 0., 0., 0., 0., 0., 0., 0., 0., 0., 0., 0., 0.]],\n",
       "\n",
       "         [[1., 0., 0., 0., 0., 0., 0., 0., 0., 0., 0., 0., 0., 0., 0., 0., 0.]]]],\n",
       "       device='mps:0')"
      ]
     },
     "execution_count": 7,
     "metadata": {},
     "output_type": "execute_result"
    }
   ],
   "execution_count": 7
  },
  {
   "metadata": {
    "ExecuteTime": {
     "end_time": "2024-09-23T10:13:02.660462Z",
     "start_time": "2024-09-23T10:13:02.594834Z"
    }
   },
   "cell_type": "code",
   "source": [
    "y_train = torch.tensor(\n",
    "    [\n",
    "        [emoji_encoding[i] for _ in range(0, largest_word_len)] for i in\n",
    "        range(0, len(emoji_encoding))\n",
    "    ], dtype=torch.float, device=device)\n",
    "\n",
    "print(y_train.shape)\n",
    "y_train\n"
   ],
   "outputs": [
    {
     "name": "stdout",
     "output_type": "stream",
     "text": [
      "torch.Size([7, 6, 7])\n"
     ]
    },
    {
     "data": {
      "text/plain": [
       "tensor([[[1., 0., 0., 0., 0., 0., 0.],\n",
       "         [1., 0., 0., 0., 0., 0., 0.],\n",
       "         [1., 0., 0., 0., 0., 0., 0.],\n",
       "         [1., 0., 0., 0., 0., 0., 0.],\n",
       "         [1., 0., 0., 0., 0., 0., 0.],\n",
       "         [1., 0., 0., 0., 0., 0., 0.]],\n",
       "\n",
       "        [[0., 1., 0., 0., 0., 0., 0.],\n",
       "         [0., 1., 0., 0., 0., 0., 0.],\n",
       "         [0., 1., 0., 0., 0., 0., 0.],\n",
       "         [0., 1., 0., 0., 0., 0., 0.],\n",
       "         [0., 1., 0., 0., 0., 0., 0.],\n",
       "         [0., 1., 0., 0., 0., 0., 0.]],\n",
       "\n",
       "        [[0., 0., 1., 0., 0., 0., 0.],\n",
       "         [0., 0., 1., 0., 0., 0., 0.],\n",
       "         [0., 0., 1., 0., 0., 0., 0.],\n",
       "         [0., 0., 1., 0., 0., 0., 0.],\n",
       "         [0., 0., 1., 0., 0., 0., 0.],\n",
       "         [0., 0., 1., 0., 0., 0., 0.]],\n",
       "\n",
       "        [[0., 0., 0., 1., 0., 0., 0.],\n",
       "         [0., 0., 0., 1., 0., 0., 0.],\n",
       "         [0., 0., 0., 1., 0., 0., 0.],\n",
       "         [0., 0., 0., 1., 0., 0., 0.],\n",
       "         [0., 0., 0., 1., 0., 0., 0.],\n",
       "         [0., 0., 0., 1., 0., 0., 0.]],\n",
       "\n",
       "        [[0., 0., 0., 0., 1., 0., 0.],\n",
       "         [0., 0., 0., 0., 1., 0., 0.],\n",
       "         [0., 0., 0., 0., 1., 0., 0.],\n",
       "         [0., 0., 0., 0., 1., 0., 0.],\n",
       "         [0., 0., 0., 0., 1., 0., 0.],\n",
       "         [0., 0., 0., 0., 1., 0., 0.]],\n",
       "\n",
       "        [[0., 0., 0., 0., 0., 1., 0.],\n",
       "         [0., 0., 0., 0., 0., 1., 0.],\n",
       "         [0., 0., 0., 0., 0., 1., 0.],\n",
       "         [0., 0., 0., 0., 0., 1., 0.],\n",
       "         [0., 0., 0., 0., 0., 1., 0.],\n",
       "         [0., 0., 0., 0., 0., 1., 0.]],\n",
       "\n",
       "        [[0., 0., 0., 0., 0., 0., 1.],\n",
       "         [0., 0., 0., 0., 0., 0., 1.],\n",
       "         [0., 0., 0., 0., 0., 0., 1.],\n",
       "         [0., 0., 0., 0., 0., 0., 1.],\n",
       "         [0., 0., 0., 0., 0., 0., 1.],\n",
       "         [0., 0., 0., 0., 0., 0., 1.]]], device='mps:0')"
      ]
     },
     "execution_count": 8,
     "metadata": {},
     "output_type": "execute_result"
    }
   ],
   "execution_count": 8
  },
  {
   "cell_type": "code",
   "source": [
    "model = EmojiModel.EmojiModel(len(char_encodings), len(emoji_encoding), dev=device)\n",
    "\n",
    "model.train_model(x_train, y_train)"
   ],
   "metadata": {
    "ExecuteTime": {
     "end_time": "2024-09-23T10:13:05.563937Z",
     "start_time": "2024-09-23T10:13:02.684647Z"
    }
   },
   "outputs": [
    {
     "name": "stdout",
     "output_type": "stream",
     "text": [
      "Starting training\n",
      "epoch 0\n",
      "Loss: 1.9694682359695435\n",
      "epoch 1\n",
      "epoch 2\n",
      "epoch 3\n",
      "epoch 4\n",
      "epoch 5\n",
      "epoch 6\n",
      "epoch 7\n",
      "epoch 8\n",
      "epoch 9\n",
      "epoch 10\n",
      "epoch 11\n",
      "epoch 12\n",
      "epoch 13\n",
      "epoch 14\n",
      "epoch 15\n",
      "epoch 16\n",
      "epoch 17\n",
      "epoch 18\n",
      "epoch 19\n",
      "epoch 20\n",
      "epoch 21\n",
      "epoch 22\n",
      "epoch 23\n",
      "epoch 24\n",
      "epoch 25\n",
      "epoch 26\n",
      "epoch 27\n",
      "epoch 28\n",
      "epoch 29\n",
      "epoch 30\n",
      "epoch 31\n",
      "epoch 32\n",
      "epoch 33\n",
      "epoch 34\n",
      "epoch 35\n",
      "epoch 36\n",
      "epoch 37\n",
      "epoch 38\n",
      "epoch 39\n",
      "epoch 40\n",
      "epoch 41\n",
      "epoch 42\n",
      "epoch 43\n",
      "epoch 44\n",
      "epoch 45\n",
      "epoch 46\n",
      "epoch 47\n",
      "epoch 48\n",
      "epoch 49\n",
      "epoch 50\n",
      "epoch 51\n",
      "epoch 52\n",
      "epoch 53\n",
      "epoch 54\n",
      "epoch 55\n",
      "epoch 56\n",
      "epoch 57\n",
      "epoch 58\n",
      "epoch 59\n",
      "epoch 60\n",
      "epoch 61\n",
      "epoch 62\n",
      "epoch 63\n",
      "epoch 64\n",
      "epoch 65\n",
      "epoch 66\n",
      "epoch 67\n",
      "epoch 68\n",
      "epoch 69\n",
      "epoch 70\n",
      "epoch 71\n",
      "epoch 72\n",
      "epoch 73\n",
      "epoch 74\n",
      "epoch 75\n",
      "epoch 76\n",
      "epoch 77\n",
      "epoch 78\n",
      "epoch 79\n",
      "epoch 80\n",
      "epoch 81\n",
      "epoch 82\n",
      "epoch 83\n",
      "epoch 84\n",
      "epoch 85\n",
      "epoch 86\n",
      "epoch 87\n",
      "epoch 88\n",
      "epoch 89\n",
      "epoch 90\n",
      "epoch 91\n",
      "epoch 92\n",
      "epoch 93\n",
      "epoch 94\n",
      "epoch 95\n",
      "epoch 96\n",
      "epoch 97\n",
      "epoch 98\n",
      "epoch 99\n"
     ]
    }
   ],
   "execution_count": 9
  },
  {
   "cell_type": "code",
   "source": [
    "def generate_emoji(string, showGradualGuess=False) -> str: \n",
    "    y = -1\n",
    "    model.reset()\n",
    "    for c in string:\n",
    "        char_index = possible_chars.index(c if c in possible_chars else ' ')\n",
    "        \n",
    "        y = model.f(torch.tensor([[char_encodings[char_index]]], dtype=torch.float, device=device))\n",
    "        \n",
    "        print(f\"Current guess is {emoji_list[y.argmax(1)]}\") if showGradualGuess else None\n",
    "    return emoji_list[y.argmax(1)]\n",
    "\n"
   ],
   "metadata": {
    "ExecuteTime": {
     "end_time": "2024-09-23T10:13:05.571968Z",
     "start_time": "2024-09-23T10:13:05.568757Z"
    }
   },
   "outputs": [],
   "execution_count": 10
  },
  {
   "metadata": {
    "ExecuteTime": {
     "end_time": "2024-09-23T10:13:05.706592Z",
     "start_time": "2024-09-23T10:13:05.651937Z"
    }
   },
   "cell_type": "code",
   "source": [
    "print(emoji_dict.keys())\n",
    "for e in emoji_dict.keys():\n",
    "    print(generate_emoji(e, True))"
   ],
   "outputs": [
    {
     "name": "stdout",
     "output_type": "stream",
     "text": [
      "dict_keys(['dog', 'cat', 'fox', 'cookie', 'crown', 'snake', 'cold'])\n",
      "Current guess is 🐶\n",
      "Current guess is 🐶\n",
      "Current guess is 🐶\n",
      "🐶\n",
      "Current guess is 🥶\n",
      "Current guess is 🐱\n",
      "Current guess is 🐱\n",
      "🐱\n",
      "Current guess is 🦊\n",
      "Current guess is 🦊\n",
      "Current guess is 🦊\n",
      "🦊\n",
      "Current guess is 🥶\n",
      "Current guess is 🍪\n",
      "Current guess is 🍪\n",
      "Current guess is 🍪\n",
      "Current guess is 🍪\n",
      "Current guess is 🍪\n",
      "🍪\n",
      "Current guess is 🥶\n",
      "Current guess is 👑\n",
      "Current guess is 👑\n",
      "Current guess is 👑\n",
      "Current guess is 👑\n",
      "👑\n",
      "Current guess is 🐍\n",
      "Current guess is 🐍\n",
      "Current guess is 🐍\n",
      "Current guess is 🐍\n",
      "Current guess is 🐍\n",
      "🐍\n",
      "Current guess is 🥶\n",
      "Current guess is 🍪\n",
      "Current guess is 🥶\n",
      "Current guess is 🥶\n",
      "🥶\n"
     ]
    }
   ],
   "execution_count": 11
  },
  {
   "metadata": {
    "ExecuteTime": {
     "end_time": "2024-09-23T10:13:05.835702Z",
     "start_time": "2024-09-23T10:13:05.795595Z"
    }
   },
   "cell_type": "code",
   "source": [
    "scrambled = [''.join(random.sample(word, len(word))) for word in emoji_dict.keys()]\n",
    "print(scrambled)\n",
    "for e in scrambled:\n",
    "    print(generate_emoji(e, True))"
   ],
   "outputs": [
    {
     "name": "stdout",
     "output_type": "stream",
     "text": [
      "['dgo', 'cta', 'xfo', 'oockie', 'ornwc', 'nsake', 'clod']\n",
      "Current guess is 🐶\n",
      "Current guess is 🐶\n",
      "Current guess is 🐶\n",
      "🐶\n",
      "Current guess is 🥶\n",
      "Current guess is 🐱\n",
      "Current guess is 🐱\n",
      "🐱\n",
      "Current guess is 🦊\n",
      "Current guess is 🦊\n",
      "Current guess is 🦊\n",
      "🦊\n",
      "Current guess is 🍪\n",
      "Current guess is 🍪\n",
      "Current guess is 🐶\n",
      "Current guess is 🐶\n",
      "Current guess is 🐶\n",
      "Current guess is 🐶\n",
      "🐶\n",
      "Current guess is 🍪\n",
      "Current guess is 🍪\n",
      "Current guess is 🍪\n",
      "Current guess is 🍪\n",
      "Current guess is 🐶\n",
      "🐶\n",
      "Current guess is 🐍\n",
      "Current guess is 🐍\n",
      "Current guess is 🐍\n",
      "Current guess is 🐍\n",
      "Current guess is 🐍\n",
      "🐍\n",
      "Current guess is 🥶\n",
      "Current guess is 🥶\n",
      "Current guess is 🥶\n",
      "Current guess is 🥶\n",
      "🥶\n"
     ]
    }
   ],
   "execution_count": 12
  },
  {
   "metadata": {
    "ExecuteTime": {
     "end_time": "2024-09-23T10:13:05.963017Z",
     "start_time": "2024-09-23T10:13:05.925667Z"
    }
   },
   "cell_type": "code",
   "source": [
    "almost_same = [\"doge\", \"cats\", \"fox\", \"coooki\", \"crovn\", \"snek\"]\n",
    "print(almost_same)\n",
    "for e in almost_same:\n",
    "    print(generate_emoji(e, True))"
   ],
   "outputs": [
    {
     "name": "stdout",
     "output_type": "stream",
     "text": [
      "['doge', 'cats', 'fox', 'coooki', 'crovn', 'snek']\n",
      "Current guess is 🐶\n",
      "Current guess is 🐶\n",
      "Current guess is 🐶\n",
      "Current guess is 🐶\n",
      "🐶\n",
      "Current guess is 🥶\n",
      "Current guess is 🐱\n",
      "Current guess is 🐱\n",
      "Current guess is 🐱\n",
      "🐱\n",
      "Current guess is 🦊\n",
      "Current guess is 🦊\n",
      "Current guess is 🦊\n",
      "🦊\n",
      "Current guess is 🥶\n",
      "Current guess is 🍪\n",
      "Current guess is 🍪\n",
      "Current guess is 🍪\n",
      "Current guess is 🍪\n",
      "Current guess is 🍪\n",
      "🍪\n",
      "Current guess is 🥶\n",
      "Current guess is 👑\n",
      "Current guess is 👑\n",
      "Current guess is 👑\n",
      "Current guess is 👑\n",
      "👑\n",
      "Current guess is 🐍\n",
      "Current guess is 🐍\n",
      "Current guess is 🐍\n",
      "Current guess is 🐍\n",
      "🐍\n"
     ]
    }
   ],
   "execution_count": 13
  },
  {
   "metadata": {
    "ExecuteTime": {
     "end_time": "2024-09-23T10:13:06.045555Z",
     "start_time": "2024-09-23T10:13:06.033040Z"
    }
   },
   "cell_type": "code",
   "source": [
    "print(generate_emoji(\"cat\", True))\n",
    "print(generate_emoji(\"smiley\", True))"
   ],
   "outputs": [
    {
     "name": "stdout",
     "output_type": "stream",
     "text": [
      "Current guess is 🥶\n",
      "Current guess is 🐱\n",
      "Current guess is 🐱\n",
      "🐱\n",
      "Current guess is 🐍\n",
      "Current guess is 🐍\n",
      "Current guess is 🐍\n",
      "Current guess is 🐍\n",
      "Current guess is 🐍\n",
      "Current guess is 🐍\n",
      "🐍\n"
     ]
    }
   ],
   "execution_count": 14
  }
 ],
 "metadata": {
  "orig_nbformat": 4,
  "language_info": {
   "name": "python",
   "version": "3.8.10",
   "mimetype": "text/x-python",
   "codemirror_mode": {
    "name": "ipython",
    "version": 3
   },
   "pygments_lexer": "ipython3",
   "nbconvert_exporter": "python",
   "file_extension": ".py"
  },
  "kernelspec": {
   "name": "python3",
   "display_name": "Python 3 (ipykernel)",
   "language": "python"
  },
  "interpreter": {
   "hash": "916dbcbb3f70747c44a77c7bcd40155683ae19c65e1c03b4aa3499c5328201f1"
  }
 },
 "nbformat": 4,
 "nbformat_minor": 2
}
