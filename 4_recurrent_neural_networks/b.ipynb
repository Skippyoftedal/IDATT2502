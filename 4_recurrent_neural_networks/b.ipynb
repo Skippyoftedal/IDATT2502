{
 "cells": [
  {
   "metadata": {},
   "cell_type": "markdown",
   "source": "The dataset is from https://www.kaggle.com/datasets/subinium/emojiimage-dataset/data"
  },
  {
   "cell_type": "code",
   "source": [
    "import torch\n",
    "import numpy as np\n",
    "\n",
    "import EmojiModel\n",
    "from utility.deviceUtility import get_best_available_device\n",
    "\n",
    "import importlib\n",
    "import random\n",
    "import pandas as pd\n",
    "\n",
    "importlib.reload(EmojiModel)"
   ],
   "metadata": {
    "ExecuteTime": {
     "end_time": "2024-09-21T12:22:32.647436Z",
     "start_time": "2024-09-21T12:22:32.641410Z"
    }
   },
   "outputs": [
    {
     "data": {
      "text/plain": [
       "<module 'EmojiModel' from '/Users/Admin/Documents/MachineLearning/github/ovinger/4_recurrent_neural_networks/EmojiModel.py'>"
      ]
     },
     "execution_count": 20,
     "metadata": {},
     "output_type": "execute_result"
    }
   ],
   "execution_count": 20
  },
  {
   "metadata": {
    "ExecuteTime": {
     "end_time": "2024-09-21T12:22:32.693939Z",
     "start_time": "2024-09-21T12:22:32.691560Z"
    }
   },
   "cell_type": "code",
   "source": "device = get_best_available_device()",
   "outputs": [
    {
     "name": "stdout",
     "output_type": "stream",
     "text": [
      "________________________\n",
      "\u001B[94m\n",
      "Device manager:\n",
      "Running on device: mps\u001B[0m\n",
      "________________________\n"
     ]
    }
   ],
   "execution_count": 21
  },
  {
   "metadata": {
    "ExecuteTime": {
     "end_time": "2024-09-21T12:22:32.948358Z",
     "start_time": "2024-09-21T12:22:32.944532Z"
    }
   },
   "cell_type": "code",
   "source": [
    "\n",
    "\n",
    "# df = pd.read_csv(\"../data/emoji/copy.csv\")\n",
    "# emoji_dict = dict(zip(df.iloc[:, 3], df.iloc[:, 1]))\n",
    "# print(emoji_dict)\n",
    "\n",
    "\n",
    "emoji_dict = {\n",
    "    'dog': '🐶',\n",
    "    'cat': '🐱',\n",
    "    'fox': '🦊',\n",
    "    'cookie': '🍪',\n",
    "    'crown': '👑',\n",
    "    'snake': '🐍',\n",
    "    'cold': '🥶'\n",
    "}\n",
    "\n",
    "\n",
    "\n",
    "emoji_list = list(emoji_dict.values())\n",
    "\n",
    "possible_chars = list(' ' + ''.join(set(''.join(emoji_dict.keys()))))\n",
    "possible_chars"
   ],
   "outputs": [
    {
     "data": {
      "text/plain": [
       "[' ',\n",
       " 'a',\n",
       " 'x',\n",
       " 'w',\n",
       " 'd',\n",
       " 'k',\n",
       " 'r',\n",
       " 't',\n",
       " 'c',\n",
       " 'f',\n",
       " 'l',\n",
       " 'n',\n",
       " 's',\n",
       " 'i',\n",
       " 'o',\n",
       " 'g',\n",
       " 'e']"
      ]
     },
     "execution_count": 22,
     "metadata": {},
     "output_type": "execute_result"
    }
   ],
   "execution_count": 22
  },
  {
   "metadata": {
    "ExecuteTime": {
     "end_time": "2024-09-21T12:22:33.036209Z",
     "start_time": "2024-09-21T12:22:33.032462Z"
    }
   },
   "cell_type": "code",
   "source": [
    "char_encodings = np.eye(len(possible_chars))\n",
    "char_encodings"
   ],
   "outputs": [
    {
     "data": {
      "text/plain": [
       "array([[1., 0., 0., 0., 0., 0., 0., 0., 0., 0., 0., 0., 0., 0., 0., 0.,\n",
       "        0.],\n",
       "       [0., 1., 0., 0., 0., 0., 0., 0., 0., 0., 0., 0., 0., 0., 0., 0.,\n",
       "        0.],\n",
       "       [0., 0., 1., 0., 0., 0., 0., 0., 0., 0., 0., 0., 0., 0., 0., 0.,\n",
       "        0.],\n",
       "       [0., 0., 0., 1., 0., 0., 0., 0., 0., 0., 0., 0., 0., 0., 0., 0.,\n",
       "        0.],\n",
       "       [0., 0., 0., 0., 1., 0., 0., 0., 0., 0., 0., 0., 0., 0., 0., 0.,\n",
       "        0.],\n",
       "       [0., 0., 0., 0., 0., 1., 0., 0., 0., 0., 0., 0., 0., 0., 0., 0.,\n",
       "        0.],\n",
       "       [0., 0., 0., 0., 0., 0., 1., 0., 0., 0., 0., 0., 0., 0., 0., 0.,\n",
       "        0.],\n",
       "       [0., 0., 0., 0., 0., 0., 0., 1., 0., 0., 0., 0., 0., 0., 0., 0.,\n",
       "        0.],\n",
       "       [0., 0., 0., 0., 0., 0., 0., 0., 1., 0., 0., 0., 0., 0., 0., 0.,\n",
       "        0.],\n",
       "       [0., 0., 0., 0., 0., 0., 0., 0., 0., 1., 0., 0., 0., 0., 0., 0.,\n",
       "        0.],\n",
       "       [0., 0., 0., 0., 0., 0., 0., 0., 0., 0., 1., 0., 0., 0., 0., 0.,\n",
       "        0.],\n",
       "       [0., 0., 0., 0., 0., 0., 0., 0., 0., 0., 0., 1., 0., 0., 0., 0.,\n",
       "        0.],\n",
       "       [0., 0., 0., 0., 0., 0., 0., 0., 0., 0., 0., 0., 1., 0., 0., 0.,\n",
       "        0.],\n",
       "       [0., 0., 0., 0., 0., 0., 0., 0., 0., 0., 0., 0., 0., 1., 0., 0.,\n",
       "        0.],\n",
       "       [0., 0., 0., 0., 0., 0., 0., 0., 0., 0., 0., 0., 0., 0., 1., 0.,\n",
       "        0.],\n",
       "       [0., 0., 0., 0., 0., 0., 0., 0., 0., 0., 0., 0., 0., 0., 0., 1.,\n",
       "        0.],\n",
       "       [0., 0., 0., 0., 0., 0., 0., 0., 0., 0., 0., 0., 0., 0., 0., 0.,\n",
       "        1.]])"
      ]
     },
     "execution_count": 23,
     "metadata": {},
     "output_type": "execute_result"
    }
   ],
   "execution_count": 23
  },
  {
   "metadata": {
    "ExecuteTime": {
     "end_time": "2024-09-21T12:22:33.143231Z",
     "start_time": "2024-09-21T12:22:33.140665Z"
    }
   },
   "cell_type": "code",
   "source": [
    "\n",
    "emoji_encoding = np.eye(len(emoji_dict))\n",
    "emoji_encoding\n"
   ],
   "outputs": [
    {
     "data": {
      "text/plain": [
       "array([[1., 0., 0., 0., 0., 0., 0.],\n",
       "       [0., 1., 0., 0., 0., 0., 0.],\n",
       "       [0., 0., 1., 0., 0., 0., 0.],\n",
       "       [0., 0., 0., 1., 0., 0., 0.],\n",
       "       [0., 0., 0., 0., 1., 0., 0.],\n",
       "       [0., 0., 0., 0., 0., 1., 0.],\n",
       "       [0., 0., 0., 0., 0., 0., 1.]])"
      ]
     },
     "execution_count": 24,
     "metadata": {},
     "output_type": "execute_result"
    }
   ],
   "execution_count": 24
  },
  {
   "metadata": {
    "ExecuteTime": {
     "end_time": "2024-09-21T12:22:33.200941Z",
     "start_time": "2024-09-21T12:22:33.198400Z"
    }
   },
   "cell_type": "code",
   "source": [
    "largest_word_len = max([len(it) for it in emoji_dict.keys()])\n",
    "largest_word_len"
   ],
   "outputs": [
    {
     "data": {
      "text/plain": [
       "6"
      ]
     },
     "execution_count": 25,
     "metadata": {},
     "output_type": "execute_result"
    }
   ],
   "execution_count": 25
  },
  {
   "metadata": {
    "ExecuteTime": {
     "end_time": "2024-09-21T12:22:33.335053Z",
     "start_time": "2024-09-21T12:22:33.253352Z"
    }
   },
   "cell_type": "code",
   "source": [
    "\n",
    "padded_keys = [key + \" \" * (largest_word_len - len(key)) for key in emoji_dict.keys()]\n",
    "\n",
    "x_train = torch.tensor([\n",
    "    [[char_encodings[possible_chars.index(a)]] for a in word] for word in padded_keys],\n",
    "    dtype=torch.float, device=device)\n",
    "print(x_train.shape)\n",
    "x_train"
   ],
   "outputs": [
    {
     "name": "stdout",
     "output_type": "stream",
     "text": [
      "torch.Size([7, 6, 1, 17])\n"
     ]
    },
    {
     "data": {
      "text/plain": [
       "tensor([[[[0., 0., 0., 0., 1., 0., 0., 0., 0., 0., 0., 0., 0., 0., 0., 0., 0.]],\n",
       "\n",
       "         [[0., 0., 0., 0., 0., 0., 0., 0., 0., 0., 0., 0., 0., 0., 1., 0., 0.]],\n",
       "\n",
       "         [[0., 0., 0., 0., 0., 0., 0., 0., 0., 0., 0., 0., 0., 0., 0., 1., 0.]],\n",
       "\n",
       "         [[1., 0., 0., 0., 0., 0., 0., 0., 0., 0., 0., 0., 0., 0., 0., 0., 0.]],\n",
       "\n",
       "         [[1., 0., 0., 0., 0., 0., 0., 0., 0., 0., 0., 0., 0., 0., 0., 0., 0.]],\n",
       "\n",
       "         [[1., 0., 0., 0., 0., 0., 0., 0., 0., 0., 0., 0., 0., 0., 0., 0., 0.]]],\n",
       "\n",
       "\n",
       "        [[[0., 0., 0., 0., 0., 0., 0., 0., 1., 0., 0., 0., 0., 0., 0., 0., 0.]],\n",
       "\n",
       "         [[0., 1., 0., 0., 0., 0., 0., 0., 0., 0., 0., 0., 0., 0., 0., 0., 0.]],\n",
       "\n",
       "         [[0., 0., 0., 0., 0., 0., 0., 1., 0., 0., 0., 0., 0., 0., 0., 0., 0.]],\n",
       "\n",
       "         [[1., 0., 0., 0., 0., 0., 0., 0., 0., 0., 0., 0., 0., 0., 0., 0., 0.]],\n",
       "\n",
       "         [[1., 0., 0., 0., 0., 0., 0., 0., 0., 0., 0., 0., 0., 0., 0., 0., 0.]],\n",
       "\n",
       "         [[1., 0., 0., 0., 0., 0., 0., 0., 0., 0., 0., 0., 0., 0., 0., 0., 0.]]],\n",
       "\n",
       "\n",
       "        [[[0., 0., 0., 0., 0., 0., 0., 0., 0., 1., 0., 0., 0., 0., 0., 0., 0.]],\n",
       "\n",
       "         [[0., 0., 0., 0., 0., 0., 0., 0., 0., 0., 0., 0., 0., 0., 1., 0., 0.]],\n",
       "\n",
       "         [[0., 0., 1., 0., 0., 0., 0., 0., 0., 0., 0., 0., 0., 0., 0., 0., 0.]],\n",
       "\n",
       "         [[1., 0., 0., 0., 0., 0., 0., 0., 0., 0., 0., 0., 0., 0., 0., 0., 0.]],\n",
       "\n",
       "         [[1., 0., 0., 0., 0., 0., 0., 0., 0., 0., 0., 0., 0., 0., 0., 0., 0.]],\n",
       "\n",
       "         [[1., 0., 0., 0., 0., 0., 0., 0., 0., 0., 0., 0., 0., 0., 0., 0., 0.]]],\n",
       "\n",
       "\n",
       "        [[[0., 0., 0., 0., 0., 0., 0., 0., 1., 0., 0., 0., 0., 0., 0., 0., 0.]],\n",
       "\n",
       "         [[0., 0., 0., 0., 0., 0., 0., 0., 0., 0., 0., 0., 0., 0., 1., 0., 0.]],\n",
       "\n",
       "         [[0., 0., 0., 0., 0., 0., 0., 0., 0., 0., 0., 0., 0., 0., 1., 0., 0.]],\n",
       "\n",
       "         [[0., 0., 0., 0., 0., 1., 0., 0., 0., 0., 0., 0., 0., 0., 0., 0., 0.]],\n",
       "\n",
       "         [[0., 0., 0., 0., 0., 0., 0., 0., 0., 0., 0., 0., 0., 1., 0., 0., 0.]],\n",
       "\n",
       "         [[0., 0., 0., 0., 0., 0., 0., 0., 0., 0., 0., 0., 0., 0., 0., 0., 1.]]],\n",
       "\n",
       "\n",
       "        [[[0., 0., 0., 0., 0., 0., 0., 0., 1., 0., 0., 0., 0., 0., 0., 0., 0.]],\n",
       "\n",
       "         [[0., 0., 0., 0., 0., 0., 1., 0., 0., 0., 0., 0., 0., 0., 0., 0., 0.]],\n",
       "\n",
       "         [[0., 0., 0., 0., 0., 0., 0., 0., 0., 0., 0., 0., 0., 0., 1., 0., 0.]],\n",
       "\n",
       "         [[0., 0., 0., 1., 0., 0., 0., 0., 0., 0., 0., 0., 0., 0., 0., 0., 0.]],\n",
       "\n",
       "         [[0., 0., 0., 0., 0., 0., 0., 0., 0., 0., 0., 1., 0., 0., 0., 0., 0.]],\n",
       "\n",
       "         [[1., 0., 0., 0., 0., 0., 0., 0., 0., 0., 0., 0., 0., 0., 0., 0., 0.]]],\n",
       "\n",
       "\n",
       "        [[[0., 0., 0., 0., 0., 0., 0., 0., 0., 0., 0., 0., 1., 0., 0., 0., 0.]],\n",
       "\n",
       "         [[0., 0., 0., 0., 0., 0., 0., 0., 0., 0., 0., 1., 0., 0., 0., 0., 0.]],\n",
       "\n",
       "         [[0., 1., 0., 0., 0., 0., 0., 0., 0., 0., 0., 0., 0., 0., 0., 0., 0.]],\n",
       "\n",
       "         [[0., 0., 0., 0., 0., 1., 0., 0., 0., 0., 0., 0., 0., 0., 0., 0., 0.]],\n",
       "\n",
       "         [[0., 0., 0., 0., 0., 0., 0., 0., 0., 0., 0., 0., 0., 0., 0., 0., 1.]],\n",
       "\n",
       "         [[1., 0., 0., 0., 0., 0., 0., 0., 0., 0., 0., 0., 0., 0., 0., 0., 0.]]],\n",
       "\n",
       "\n",
       "        [[[0., 0., 0., 0., 0., 0., 0., 0., 1., 0., 0., 0., 0., 0., 0., 0., 0.]],\n",
       "\n",
       "         [[0., 0., 0., 0., 0., 0., 0., 0., 0., 0., 0., 0., 0., 0., 1., 0., 0.]],\n",
       "\n",
       "         [[0., 0., 0., 0., 0., 0., 0., 0., 0., 0., 1., 0., 0., 0., 0., 0., 0.]],\n",
       "\n",
       "         [[0., 0., 0., 0., 1., 0., 0., 0., 0., 0., 0., 0., 0., 0., 0., 0., 0.]],\n",
       "\n",
       "         [[1., 0., 0., 0., 0., 0., 0., 0., 0., 0., 0., 0., 0., 0., 0., 0., 0.]],\n",
       "\n",
       "         [[1., 0., 0., 0., 0., 0., 0., 0., 0., 0., 0., 0., 0., 0., 0., 0., 0.]]]],\n",
       "       device='mps:0')"
      ]
     },
     "execution_count": 26,
     "metadata": {},
     "output_type": "execute_result"
    }
   ],
   "execution_count": 26
  },
  {
   "metadata": {
    "ExecuteTime": {
     "end_time": "2024-09-21T12:22:33.405298Z",
     "start_time": "2024-09-21T12:22:33.342117Z"
    }
   },
   "cell_type": "code",
   "source": [
    "y_train = torch.tensor(\n",
    "    [\n",
    "        [emoji_encoding[i] for _ in range(0, largest_word_len)] for i in\n",
    "        range(0, len(emoji_encoding))\n",
    "    ], dtype=torch.float, device=device)\n",
    "\n",
    "print(y_train.shape)\n",
    "y_train\n"
   ],
   "outputs": [
    {
     "name": "stdout",
     "output_type": "stream",
     "text": [
      "torch.Size([7, 6, 7])\n"
     ]
    },
    {
     "data": {
      "text/plain": [
       "tensor([[[1., 0., 0., 0., 0., 0., 0.],\n",
       "         [1., 0., 0., 0., 0., 0., 0.],\n",
       "         [1., 0., 0., 0., 0., 0., 0.],\n",
       "         [1., 0., 0., 0., 0., 0., 0.],\n",
       "         [1., 0., 0., 0., 0., 0., 0.],\n",
       "         [1., 0., 0., 0., 0., 0., 0.]],\n",
       "\n",
       "        [[0., 1., 0., 0., 0., 0., 0.],\n",
       "         [0., 1., 0., 0., 0., 0., 0.],\n",
       "         [0., 1., 0., 0., 0., 0., 0.],\n",
       "         [0., 1., 0., 0., 0., 0., 0.],\n",
       "         [0., 1., 0., 0., 0., 0., 0.],\n",
       "         [0., 1., 0., 0., 0., 0., 0.]],\n",
       "\n",
       "        [[0., 0., 1., 0., 0., 0., 0.],\n",
       "         [0., 0., 1., 0., 0., 0., 0.],\n",
       "         [0., 0., 1., 0., 0., 0., 0.],\n",
       "         [0., 0., 1., 0., 0., 0., 0.],\n",
       "         [0., 0., 1., 0., 0., 0., 0.],\n",
       "         [0., 0., 1., 0., 0., 0., 0.]],\n",
       "\n",
       "        [[0., 0., 0., 1., 0., 0., 0.],\n",
       "         [0., 0., 0., 1., 0., 0., 0.],\n",
       "         [0., 0., 0., 1., 0., 0., 0.],\n",
       "         [0., 0., 0., 1., 0., 0., 0.],\n",
       "         [0., 0., 0., 1., 0., 0., 0.],\n",
       "         [0., 0., 0., 1., 0., 0., 0.]],\n",
       "\n",
       "        [[0., 0., 0., 0., 1., 0., 0.],\n",
       "         [0., 0., 0., 0., 1., 0., 0.],\n",
       "         [0., 0., 0., 0., 1., 0., 0.],\n",
       "         [0., 0., 0., 0., 1., 0., 0.],\n",
       "         [0., 0., 0., 0., 1., 0., 0.],\n",
       "         [0., 0., 0., 0., 1., 0., 0.]],\n",
       "\n",
       "        [[0., 0., 0., 0., 0., 1., 0.],\n",
       "         [0., 0., 0., 0., 0., 1., 0.],\n",
       "         [0., 0., 0., 0., 0., 1., 0.],\n",
       "         [0., 0., 0., 0., 0., 1., 0.],\n",
       "         [0., 0., 0., 0., 0., 1., 0.],\n",
       "         [0., 0., 0., 0., 0., 1., 0.]],\n",
       "\n",
       "        [[0., 0., 0., 0., 0., 0., 1.],\n",
       "         [0., 0., 0., 0., 0., 0., 1.],\n",
       "         [0., 0., 0., 0., 0., 0., 1.],\n",
       "         [0., 0., 0., 0., 0., 0., 1.],\n",
       "         [0., 0., 0., 0., 0., 0., 1.],\n",
       "         [0., 0., 0., 0., 0., 0., 1.]]], device='mps:0')"
      ]
     },
     "execution_count": 27,
     "metadata": {},
     "output_type": "execute_result"
    }
   ],
   "execution_count": 27
  },
  {
   "cell_type": "code",
   "source": [
    "model = EmojiModel.EmojiModel(len(char_encodings), len(emoji_encoding), dev=device)\n",
    "\n",
    "model.train_model(x_train, y_train)"
   ],
   "metadata": {
    "ExecuteTime": {
     "end_time": "2024-09-21T12:22:35.771042Z",
     "start_time": "2024-09-21T12:22:33.483454Z"
    }
   },
   "outputs": [
    {
     "name": "stdout",
     "output_type": "stream",
     "text": [
      "Starting training\n",
      "epoch 0\n",
      "Loss: 2.004108428955078\n",
      "epoch 1\n",
      "epoch 2\n",
      "epoch 3\n",
      "epoch 4\n",
      "epoch 5\n",
      "epoch 6\n",
      "epoch 7\n",
      "epoch 8\n",
      "epoch 9\n",
      "epoch 10\n",
      "epoch 11\n",
      "epoch 12\n",
      "epoch 13\n",
      "epoch 14\n",
      "epoch 15\n",
      "epoch 16\n",
      "epoch 17\n",
      "epoch 18\n",
      "epoch 19\n",
      "epoch 20\n",
      "epoch 21\n",
      "epoch 22\n",
      "epoch 23\n",
      "epoch 24\n",
      "epoch 25\n",
      "epoch 26\n",
      "epoch 27\n",
      "epoch 28\n",
      "epoch 29\n",
      "epoch 30\n",
      "epoch 31\n",
      "epoch 32\n",
      "epoch 33\n",
      "epoch 34\n",
      "epoch 35\n",
      "epoch 36\n",
      "epoch 37\n",
      "epoch 38\n",
      "epoch 39\n",
      "epoch 40\n",
      "epoch 41\n",
      "epoch 42\n",
      "epoch 43\n",
      "epoch 44\n",
      "epoch 45\n",
      "epoch 46\n",
      "epoch 47\n",
      "epoch 48\n",
      "epoch 49\n",
      "epoch 50\n",
      "epoch 51\n",
      "epoch 52\n",
      "epoch 53\n",
      "epoch 54\n",
      "epoch 55\n",
      "epoch 56\n",
      "epoch 57\n",
      "epoch 58\n",
      "epoch 59\n",
      "epoch 60\n",
      "epoch 61\n",
      "epoch 62\n",
      "epoch 63\n",
      "epoch 64\n",
      "epoch 65\n",
      "epoch 66\n",
      "epoch 67\n",
      "epoch 68\n",
      "epoch 69\n",
      "epoch 70\n",
      "epoch 71\n",
      "epoch 72\n",
      "epoch 73\n",
      "epoch 74\n",
      "epoch 75\n",
      "epoch 76\n",
      "epoch 77\n",
      "epoch 78\n",
      "epoch 79\n",
      "epoch 80\n",
      "epoch 81\n",
      "epoch 82\n",
      "epoch 83\n",
      "epoch 84\n",
      "epoch 85\n",
      "epoch 86\n",
      "epoch 87\n",
      "epoch 88\n",
      "epoch 89\n",
      "epoch 90\n",
      "epoch 91\n",
      "epoch 92\n",
      "epoch 93\n",
      "epoch 94\n",
      "epoch 95\n",
      "epoch 96\n",
      "epoch 97\n",
      "epoch 98\n",
      "epoch 99\n"
     ]
    }
   ],
   "execution_count": 28
  },
  {
   "cell_type": "code",
   "source": [
    "def generate_emoji(string, showGradualGuess=False) -> str: \n",
    "    y = -1\n",
    "    model.reset()\n",
    "    for c in string:\n",
    "        char_index = possible_chars.index(c if c in possible_chars else ' ')\n",
    "        \n",
    "        y = model.f(torch.tensor([[char_encodings[char_index]]], dtype=torch.float, device=device))\n",
    "        \n",
    "        print(f\"Current guess is {emoji_list[y.argmax(1)]}\") if showGradualGuess else None\n",
    "    return emoji_list[y.argmax(1)]\n",
    "\n"
   ],
   "metadata": {
    "ExecuteTime": {
     "end_time": "2024-09-21T12:22:35.849498Z",
     "start_time": "2024-09-21T12:22:35.846756Z"
    }
   },
   "outputs": [],
   "execution_count": 29
  },
  {
   "metadata": {
    "ExecuteTime": {
     "end_time": "2024-09-21T12:22:35.975462Z",
     "start_time": "2024-09-21T12:22:35.929825Z"
    }
   },
   "cell_type": "code",
   "source": [
    "print(emoji_dict.keys())\n",
    "for e in emoji_dict.keys():\n",
    "    print(generate_emoji(e, True))"
   ],
   "outputs": [
    {
     "name": "stdout",
     "output_type": "stream",
     "text": [
      "dict_keys(['dog', 'cat', 'fox', 'cookie', 'crown', 'snake', 'cold'])\n",
      "Current guess is 🐶\n",
      "Current guess is 🐶\n",
      "Current guess is 🐶\n",
      "🐶\n",
      "Current guess is 🥶\n",
      "Current guess is 🐱\n",
      "Current guess is 🐱\n",
      "🐱\n",
      "Current guess is 🦊\n",
      "Current guess is 🦊\n",
      "Current guess is 🦊\n",
      "🦊\n",
      "Current guess is 🥶\n",
      "Current guess is 🍪\n",
      "Current guess is 🍪\n",
      "Current guess is 🍪\n",
      "Current guess is 🍪\n",
      "Current guess is 🍪\n",
      "🍪\n",
      "Current guess is 🥶\n",
      "Current guess is 👑\n",
      "Current guess is 👑\n",
      "Current guess is 👑\n",
      "Current guess is 👑\n",
      "👑\n",
      "Current guess is 🐍\n",
      "Current guess is 🐍\n",
      "Current guess is 🐍\n",
      "Current guess is 🐍\n",
      "Current guess is 🐍\n",
      "🐍\n",
      "Current guess is 🥶\n",
      "Current guess is 🍪\n",
      "Current guess is 🥶\n",
      "Current guess is 🥶\n",
      "🥶\n"
     ]
    }
   ],
   "execution_count": 30
  },
  {
   "metadata": {
    "ExecuteTime": {
     "end_time": "2024-09-21T12:22:36.082886Z",
     "start_time": "2024-09-21T12:22:36.045975Z"
    }
   },
   "cell_type": "code",
   "source": [
    "scrambled = [''.join(random.sample(word, len(word))) for word in emoji_dict.keys()]\n",
    "print(scrambled)\n",
    "for e in scrambled:\n",
    "    print(generate_emoji(e, True))"
   ],
   "outputs": [
    {
     "name": "stdout",
     "output_type": "stream",
     "text": [
      "['dog', 'cta', 'fox', 'coioek', 'wnocr', 'nksae', 'odcl']\n",
      "Current guess is 🐶\n",
      "Current guess is 🐶\n",
      "Current guess is 🐶\n",
      "🐶\n",
      "Current guess is 🥶\n",
      "Current guess is 🐱\n",
      "Current guess is 🐱\n",
      "🐱\n",
      "Current guess is 🦊\n",
      "Current guess is 🦊\n",
      "Current guess is 🦊\n",
      "🦊\n",
      "Current guess is 🥶\n",
      "Current guess is 🍪\n",
      "Current guess is 🍪\n",
      "Current guess is 🍪\n",
      "Current guess is 🍪\n",
      "Current guess is 🍪\n",
      "🍪\n",
      "Current guess is 👑\n",
      "Current guess is 🐍\n",
      "Current guess is 🐍\n",
      "Current guess is 🐍\n",
      "Current guess is 🐍\n",
      "🐍\n",
      "Current guess is 🐍\n",
      "Current guess is 🐍\n",
      "Current guess is 🐍\n",
      "Current guess is 🐍\n",
      "Current guess is 🐍\n",
      "🐍\n",
      "Current guess is 🍪\n",
      "Current guess is 🐶\n",
      "Current guess is 🐶\n",
      "Current guess is 🐶\n",
      "🐶\n"
     ]
    }
   ],
   "execution_count": 31
  },
  {
   "metadata": {
    "ExecuteTime": {
     "end_time": "2024-09-21T12:22:36.178527Z",
     "start_time": "2024-09-21T12:22:36.152335Z"
    }
   },
   "cell_type": "code",
   "source": [
    "almost_same = [\"doge\", \"cats\", \"fox\", \"coooki\", \"crovn\", \"snek\"]\n",
    "print(almost_same)\n",
    "for e in almost_same:\n",
    "    print(generate_emoji(e, True))"
   ],
   "outputs": [
    {
     "name": "stdout",
     "output_type": "stream",
     "text": [
      "['doge', 'cats', 'fox', 'coooki', 'crovn', 'snek']\n",
      "Current guess is 🐶\n",
      "Current guess is 🐶\n",
      "Current guess is 🐶\n",
      "Current guess is 🐶\n",
      "🐶\n",
      "Current guess is 🥶\n",
      "Current guess is 🐱\n",
      "Current guess is 🐱\n",
      "Current guess is 🐱\n",
      "🐱\n",
      "Current guess is 🦊\n",
      "Current guess is 🦊\n",
      "Current guess is 🦊\n",
      "🦊\n",
      "Current guess is 🥶\n",
      "Current guess is 🍪\n",
      "Current guess is 🍪\n",
      "Current guess is 🍪\n",
      "Current guess is 🍪\n",
      "Current guess is 🍪\n",
      "🍪\n",
      "Current guess is 🥶\n",
      "Current guess is 👑\n",
      "Current guess is 👑\n",
      "Current guess is 👑\n",
      "Current guess is 👑\n",
      "👑\n",
      "Current guess is 🐍\n",
      "Current guess is 🐍\n",
      "Current guess is 🐍\n",
      "Current guess is 🐍\n",
      "🐍\n"
     ]
    }
   ],
   "execution_count": 32
  },
  {
   "metadata": {
    "ExecuteTime": {
     "end_time": "2024-09-21T12:22:36.259538Z",
     "start_time": "2024-09-21T12:22:36.249076Z"
    }
   },
   "cell_type": "code",
   "source": [
    "print(generate_emoji(\"cat\", True))\n",
    "print(generate_emoji(\"smiley\", True))"
   ],
   "outputs": [
    {
     "name": "stdout",
     "output_type": "stream",
     "text": [
      "Current guess is 🥶\n",
      "Current guess is 🐱\n",
      "Current guess is 🐱\n",
      "🐱\n",
      "Current guess is 🐍\n",
      "Current guess is 🐍\n",
      "Current guess is 🐍\n",
      "Current guess is 🐍\n",
      "Current guess is 🐍\n",
      "Current guess is 🐍\n",
      "🐍\n"
     ]
    }
   ],
   "execution_count": 33
  }
 ],
 "metadata": {
  "orig_nbformat": 4,
  "language_info": {
   "name": "python",
   "version": "3.8.10",
   "mimetype": "text/x-python",
   "codemirror_mode": {
    "name": "ipython",
    "version": 3
   },
   "pygments_lexer": "ipython3",
   "nbconvert_exporter": "python",
   "file_extension": ".py"
  },
  "kernelspec": {
   "name": "python3",
   "display_name": "Python 3 (ipykernel)",
   "language": "python"
  },
  "interpreter": {
   "hash": "916dbcbb3f70747c44a77c7bcd40155683ae19c65e1c03b4aa3499c5328201f1"
  }
 },
 "nbformat": 4,
 "nbformat_minor": 2
}
